{
 "cells": [
  {
   "cell_type": "markdown",
   "id": "8a4e00108fb29bba",
   "metadata": {},
   "source": [
    "# Projet AirBnB - Prétraitement des Données (Side Quest)\n",
    "### Ce notebook a pour objectif de préparer le dataset pour la prédiction du prix d'un logement sur Airbnb.\n",
    "### Il est structuré en plusieurs sections : chargement et exploration des données, prétraitement, et séparation des données pour une future modélisation.\n",
    "### Chaque membre pourra compléter sa partie en fonction de son rôle."
   ]
  },
  {
   "cell_type": "markdown",
   "id": "e0bd09ce8dad720b",
   "metadata": {},
   "source": [
    " ## Table des Matières\n",
    "### 1. Introduction\n",
    "### 2. Chargement et Exploration des Données\n",
    "### 3. Prétraitement des Données\n",
    "###    - 3.1 Sélection des Colonnes Pertinentes\n",
    "###    - 3.2 Suppression des Doublons\n",
    "###    - 3.3 Gestion des Valeurs Manquantes\n",
    "###    - 3.4 Conversion des Types de Données\n",
    "###    - 3.5 Gestion des Valeurs Aberrantes\n",
    "### 4. Séparation des Données (Train/Test Split)\n",
    "### 5. Bonus: Préparation pour la Régression Linéaire\n",
    "### 6. Conclusion et Perspectives\n"
   ]
  },
  {
   "cell_type": "markdown",
   "id": "96e3f76675184b31",
   "metadata": {},
   "source": [
    "## 1. Introduction\n",
    "### Dans ce projet, nous préparons le dataset AirBnB afin de prédire le prix des logements.\n",
    "### Ce notebook se concentre sur la partie prétraitement des données avant l'application des algorithmes de prédiction.\n",
    "### Chaque membre de l'équipe pourra ajouter des analyses ou des ajustements au fur et à mesure.\n"
   ]
  },
  {
   "cell_type": "code",
   "execution_count": 2,
   "id": "c259afc0300bf919",
   "metadata": {
    "ExecuteTime": {
     "end_time": "2025-03-25T15:03:16.123034Z",
     "start_time": "2025-03-25T15:03:16.106953Z"
    }
   },
   "outputs": [],
   "source": [
    "# Importation des bibliothèques nécessaires\n",
    "import pandas as pd\n",
    "import numpy as np\n",
    "import matplotlib.pyplot as plt\n",
    "import seaborn as sns\n",
    "%matplotlib inline"
   ]
  },
  {
   "cell_type": "code",
   "execution_count": 3,
   "id": "fdb72d4107c8e0b3",
   "metadata": {
    "ExecuteTime": {
     "end_time": "2025-03-25T14:47:38.688991Z",
     "start_time": "2025-03-25T14:47:38.684475Z"
    }
   },
   "outputs": [
    {
     "name": "stdout",
     "output_type": "stream",
     "text": [
      "c:\\Users\\FranckPERSONNE\\anaconda3\\python.exe\n"
     ]
    }
   ],
   "source": [
    "import sys\n",
    "print(sys.executable)"
   ]
  },
  {
   "cell_type": "markdown",
   "id": "522c7520765a7511",
   "metadata": {},
   "source": [
    " ## 2. Chargement et Exploration des Données\n",
    "### Charger le fichier CSV et effectuer une première exploration du dataset."
   ]
  },
  {
   "cell_type": "code",
   "execution_count": 4,
   "id": "b41171fc7a2cb0c1",
   "metadata": {
    "ExecuteTime": {
     "end_time": "2025-03-25T15:03:27.547875Z",
     "start_time": "2025-03-25T15:03:24.996498Z"
    }
   },
   "outputs": [
    {
     "name": "stdout",
     "output_type": "stream",
     "text": [
      "     id                        listing_url       scrape_id last_scraped  \\\n",
      "0  3109  https://www.airbnb.com/rooms/3109  20241206031559   2024-12-07   \n",
      "1  5396  https://www.airbnb.com/rooms/5396  20241206031559   2024-12-09   \n",
      "2  7397  https://www.airbnb.com/rooms/7397  20241206031559   2024-12-08   \n",
      "3  7964  https://www.airbnb.com/rooms/7964  20241206031559   2024-12-09   \n",
      "4  9359  https://www.airbnb.com/rooms/9359  20241206031559   2024-12-09   \n",
      "\n",
      "            source                                             name  \\\n",
      "0      city scrape                                     zen and calm   \n",
      "1      city scrape     Your perfect Paris studio on Île Saint-Louis   \n",
      "2      city scrape                 MARAIS - 2ROOMS APT - 2/4 PEOPLE   \n",
      "3  previous scrape                     Sunny apartment with balcony   \n",
      "4      city scrape  Cozy, Central Paris: WALK or VELIB EVERYWHERE !   \n",
      "\n",
      "                                         description  \\\n",
      "0  Lovely Appartment with one bedroom with a Quee...   \n",
      "1  NEW SOFA-BED SINCE JUNE 2023, Please disregard...   \n",
      "2          VERY CONVENIENT, WITH THE BEST LOCATION !   \n",
      "3  We are renting our a spacious, sunny fully fur...   \n",
      "4  Location! Location! Location! Just bring your ...   \n",
      "\n",
      "                               neighborhood_overview  \\\n",
      "0  Good restaurants<br />very close the Montparna...   \n",
      "1  You are within walking distance to the Louvre,...   \n",
      "2                                                NaN   \n",
      "3                                                NaN   \n",
      "4                                                NaN   \n",
      "\n",
      "                                         picture_url  host_id  ...  \\\n",
      "0  https://a0.muscache.com/pictures/miso/Hosting-...     3631  ...   \n",
      "1  https://a0.muscache.com/pictures/52413/f9bf76f...     7903  ...   \n",
      "2  https://a0.muscache.com/pictures/67928287/330b...     2626  ...   \n",
      "3  https://a0.muscache.com/pictures/miso/Hosting-...    22155  ...   \n",
      "4  https://a0.muscache.com/pictures/c2965945-061f...    28422  ...   \n",
      "\n",
      "  review_scores_communication review_scores_location review_scores_value  \\\n",
      "0                        5.00                   5.00                5.00   \n",
      "1                        4.85                   4.96                4.59   \n",
      "2                        4.89                   4.94                4.74   \n",
      "3                        5.00                   5.00                5.00   \n",
      "4                         NaN                    NaN                 NaN   \n",
      "\n",
      "                                             license instant_bookable  \\\n",
      "0                                      7511409139079                t   \n",
      "1                                      7510402838018                f   \n",
      "2                                      7510400829623                f   \n",
      "3                                      7510903576564                f   \n",
      "4  Available with a mobility lease only (\"bail mo...                f   \n",
      "\n",
      "  calculated_host_listings_count calculated_host_listings_count_entire_homes  \\\n",
      "0                              1                                           1   \n",
      "1                              1                                           1   \n",
      "2                              2                                           2   \n",
      "3                              1                                           1   \n",
      "4                              1                                           1   \n",
      "\n",
      "  calculated_host_listings_count_private_rooms  \\\n",
      "0                                            0   \n",
      "1                                            0   \n",
      "2                                            0   \n",
      "3                                            0   \n",
      "4                                            0   \n",
      "\n",
      "  calculated_host_listings_count_shared_rooms reviews_per_month  \n",
      "0                                           0              0.05  \n",
      "1                                           0              2.26  \n",
      "2                                           0              2.20  \n",
      "3                                           0              0.03  \n",
      "4                                           0               NaN  \n",
      "\n",
      "[5 rows x 75 columns]\n",
      "<class 'pandas.core.frame.DataFrame'>\n",
      "RangeIndex: 91031 entries, 0 to 91030\n",
      "Data columns (total 75 columns):\n",
      " #   Column                                        Non-Null Count  Dtype  \n",
      "---  ------                                        --------------  -----  \n",
      " 0   id                                            91031 non-null  int64  \n",
      " 1   listing_url                                   91031 non-null  object \n",
      " 2   scrape_id                                     91031 non-null  int64  \n",
      " 3   last_scraped                                  91031 non-null  object \n",
      " 4   source                                        91031 non-null  object \n",
      " 5   name                                          91031 non-null  object \n",
      " 6   description                                   87540 non-null  object \n",
      " 7   neighborhood_overview                         45896 non-null  object \n",
      " 8   picture_url                                   91030 non-null  object \n",
      " 9   host_id                                       91031 non-null  int64  \n",
      " 10  host_url                                      91031 non-null  object \n",
      " 11  host_name                                     91022 non-null  object \n",
      " 12  host_since                                    91022 non-null  object \n",
      " 13  host_location                                 72768 non-null  object \n",
      " 14  host_about                                    39578 non-null  object \n",
      " 15  host_response_time                            52210 non-null  object \n",
      " 16  host_response_rate                            52210 non-null  object \n",
      " 17  host_acceptance_rate                          61093 non-null  object \n",
      " 18  host_is_superhost                             89080 non-null  object \n",
      " 19  host_thumbnail_url                            91022 non-null  object \n",
      " 20  host_picture_url                              91022 non-null  object \n",
      " 21  host_neighbourhood                            32169 non-null  object \n",
      " 22  host_listings_count                           91022 non-null  float64\n",
      " 23  host_total_listings_count                     91022 non-null  float64\n",
      " 24  host_verifications                            91022 non-null  object \n",
      " 25  host_has_profile_pic                          91022 non-null  object \n",
      " 26  host_identity_verified                        91022 non-null  object \n",
      " 27  neighbourhood                                 45896 non-null  object \n",
      " 28  neighbourhood_cleansed                        91031 non-null  object \n",
      " 29  neighbourhood_group_cleansed                  0 non-null      float64\n",
      " 30  latitude                                      91031 non-null  float64\n",
      " 31  longitude                                     91031 non-null  float64\n",
      " 32  property_type                                 91031 non-null  object \n",
      " 33  room_type                                     91031 non-null  object \n",
      " 34  accommodates                                  91031 non-null  int64  \n",
      " 35  bathrooms                                     60114 non-null  float64\n",
      " 36  bathrooms_text                                90945 non-null  object \n",
      " 37  bedrooms                                      83700 non-null  float64\n",
      " 38  beds                                          59944 non-null  float64\n",
      " 39  amenities                                     91031 non-null  object \n",
      " 40  price                                         60093 non-null  object \n",
      " 41  minimum_nights                                91031 non-null  int64  \n",
      " 42  maximum_nights                                91031 non-null  int64  \n",
      " 43  minimum_minimum_nights                        91031 non-null  int64  \n",
      " 44  maximum_minimum_nights                        91031 non-null  int64  \n",
      " 45  minimum_maximum_nights                        91031 non-null  int64  \n",
      " 46  maximum_maximum_nights                        91031 non-null  int64  \n",
      " 47  minimum_nights_avg_ntm                        91031 non-null  float64\n",
      " 48  maximum_nights_avg_ntm                        91031 non-null  float64\n",
      " 49  calendar_updated                              0 non-null      float64\n",
      " 50  has_availability                              86531 non-null  object \n",
      " 51  availability_30                               91031 non-null  int64  \n",
      " 52  availability_60                               91031 non-null  int64  \n",
      " 53  availability_90                               91031 non-null  int64  \n",
      " 54  availability_365                              91031 non-null  int64  \n",
      " 55  calendar_last_scraped                         91031 non-null  object \n",
      " 56  number_of_reviews                             91031 non-null  int64  \n",
      " 57  number_of_reviews_ltm                         91031 non-null  int64  \n",
      " 58  number_of_reviews_l30d                        91031 non-null  int64  \n",
      " 59  first_review                                  67176 non-null  object \n",
      " 60  last_review                                   67176 non-null  object \n",
      " 61  review_scores_rating                          67176 non-null  float64\n",
      " 62  review_scores_accuracy                        67164 non-null  float64\n",
      " 63  review_scores_cleanliness                     67167 non-null  float64\n",
      " 64  review_scores_checkin                         67157 non-null  float64\n",
      " 65  review_scores_communication                   67166 non-null  float64\n",
      " 66  review_scores_location                        67158 non-null  float64\n",
      " 67  review_scores_value                           67156 non-null  float64\n",
      " 68  license                                       72245 non-null  object \n",
      " 69  instant_bookable                              91031 non-null  object \n",
      " 70  calculated_host_listings_count                91031 non-null  int64  \n",
      " 71  calculated_host_listings_count_entire_homes   91031 non-null  int64  \n",
      " 72  calculated_host_listings_count_private_rooms  91031 non-null  int64  \n",
      " 73  calculated_host_listings_count_shared_rooms   91031 non-null  int64  \n",
      " 74  reviews_per_month                             67176 non-null  float64\n",
      "dtypes: float64(19), int64(21), object(35)\n",
      "memory usage: 52.1+ MB\n",
      "None\n",
      "                 id     scrape_id       host_id  host_listings_count  \\\n",
      "count  9.103100e+04  9.103100e+04  9.103100e+04         91022.000000   \n",
      "mean   6.081553e+17  2.024121e+13  1.818846e+08            30.396596   \n",
      "std    5.127971e+17  3.728536e+01  2.006094e+08           127.009105   \n",
      "min    3.109000e+03  2.024121e+13  2.626000e+03             0.000000   \n",
      "25%    3.233102e+07  2.024121e+13  1.956359e+07             1.000000   \n",
      "50%    8.113895e+17  2.024121e+13  7.262684e+07             1.000000   \n",
      "75%    1.092549e+18  2.024121e+13  3.394154e+08             3.000000   \n",
      "max    1.305100e+18  2.024121e+13  6.654112e+08          7663.000000   \n",
      "\n",
      "       host_total_listings_count  neighbourhood_group_cleansed      latitude  \\\n",
      "count               91022.000000                           0.0  91031.000000   \n",
      "mean                   38.665465                           NaN     48.864181   \n",
      "std                   159.747472                           NaN      0.018198   \n",
      "min                     0.000000                           NaN     48.816090   \n",
      "25%                     1.000000                           NaN     48.850740   \n",
      "50%                     2.000000                           NaN     48.865470   \n",
      "75%                     5.000000                           NaN     48.879055   \n",
      "max                  8018.000000                           NaN     48.901510   \n",
      "\n",
      "          longitude  accommodates     bathrooms  ...  \\\n",
      "count  91031.000000  91031.000000  60114.000000  ...   \n",
      "mean       2.343099      3.229274      1.199737  ...   \n",
      "std        0.034228      1.667150      0.541934  ...   \n",
      "min        2.227420      1.000000      0.000000  ...   \n",
      "25%        2.321011      2.000000      1.000000  ...   \n",
      "50%        2.346829      3.000000      1.000000  ...   \n",
      "75%        2.368320      4.000000      1.000000  ...   \n",
      "max        2.467120     16.000000     42.000000  ...   \n",
      "\n",
      "       review_scores_cleanliness  review_scores_checkin  \\\n",
      "count               67167.000000           67157.000000   \n",
      "mean                    4.656672               4.805165   \n",
      "std                     0.455675               0.372354   \n",
      "min                     0.000000               0.000000   \n",
      "25%                     4.500000               4.770000   \n",
      "50%                     4.790000               4.920000   \n",
      "75%                     5.000000               5.000000   \n",
      "max                     5.000000               5.000000   \n",
      "\n",
      "       review_scores_communication  review_scores_location  \\\n",
      "count                 67166.000000            67158.000000   \n",
      "mean                      4.827823                4.818905   \n",
      "std                       0.361166                0.311784   \n",
      "min                       0.000000                0.000000   \n",
      "25%                       4.800000                4.760000   \n",
      "50%                       4.950000                4.920000   \n",
      "75%                       5.000000                5.000000   \n",
      "max                       5.000000                5.000000   \n",
      "\n",
      "       review_scores_value  calculated_host_listings_count  \\\n",
      "count         67156.000000                    91031.000000   \n",
      "mean              4.624605                       23.583010   \n",
      "std               0.441887                       94.650167   \n",
      "min               0.000000                        1.000000   \n",
      "25%               4.500000                        1.000000   \n",
      "50%               4.720000                        1.000000   \n",
      "75%               4.900000                        2.000000   \n",
      "max               5.000000                      826.000000   \n",
      "\n",
      "       calculated_host_listings_count_entire_homes  \\\n",
      "count                                 91031.000000   \n",
      "mean                                     22.522558   \n",
      "std                                      93.227797   \n",
      "min                                       0.000000   \n",
      "25%                                       1.000000   \n",
      "50%                                       1.000000   \n",
      "75%                                       2.000000   \n",
      "max                                     826.000000   \n",
      "\n",
      "       calculated_host_listings_count_private_rooms  \\\n",
      "count                                  91031.000000   \n",
      "mean                                       0.981808   \n",
      "std                                       10.927202   \n",
      "min                                        0.000000   \n",
      "25%                                        0.000000   \n",
      "50%                                        0.000000   \n",
      "75%                                        0.000000   \n",
      "max                                      181.000000   \n",
      "\n",
      "       calculated_host_listings_count_shared_rooms  reviews_per_month  \n",
      "count                                 91031.000000       67176.000000  \n",
      "mean                                      0.019235           1.065495  \n",
      "std                                       0.335941           1.353293  \n",
      "min                                       0.000000           0.010000  \n",
      "25%                                       0.000000           0.210000  \n",
      "50%                                       0.000000           0.590000  \n",
      "75%                                       0.000000           1.420000  \n",
      "max                                      11.000000          49.380000  \n",
      "\n",
      "[8 rows x 40 columns]\n"
     ]
    }
   ],
   "source": [
    "# TODO: Remplacer le chemin par le chemin de votre fichier CSV si nécessaire\n",
    "file_path = 'listings.csv'\n",
    "df = pd.read_csv(file_path)\n",
    "\n",
    "# Affichage des premières lignes du dataset\n",
    "print(df.head())\n",
    "\n",
    "# Informations générales sur le dataset\n",
    "print(df.info())\n",
    "\n",
    "# Statistiques descriptives\n",
    "print(df.describe())\n"
   ]
  },
  {
   "cell_type": "markdown",
   "id": "24fbad65acddcec2",
   "metadata": {},
   "source": [
    " ## 3. Prétraitement des Données\n",
    "### Dans cette section, nous allons préparer le dataset pour l'analyse.\n",
    "### Cette partie est à compléter par les membres de l'équipe selon les besoins.\n",
    "\n",
    "## 3.1 Sélection des Colonnes Pertinentes\n",
    "### Sélectionner les colonnes jugées importantes pour la prédiction du prix."
   ]
  },
  {
   "cell_type": "code",
   "execution_count": 6,
   "id": "3ca67321e8913eab",
   "metadata": {
    "ExecuteTime": {
     "end_time": "2025-03-25T15:03:32.670399Z",
     "start_time": "2025-03-25T15:03:32.608726Z"
    }
   },
   "outputs": [
    {
     "name": "stdout",
     "output_type": "stream",
     "text": [
      "     price        room_type            neighbourhood  minimum_nights  \\\n",
      "0  $100.00  Entire home/apt  Neighborhood highlights               2   \n",
      "1   $88.00  Entire home/apt  Neighborhood highlights               3   \n",
      "2  $136.00  Entire home/apt                      NaN              10   \n",
      "3      NaN  Entire home/apt                      NaN               7   \n",
      "4   $75.00  Entire home/apt                      NaN             180   \n",
      "\n",
      "   number_of_reviews  \n",
      "0                  4  \n",
      "1                425  \n",
      "2                367  \n",
      "3                  5  \n",
      "4                  0  \n"
     ]
    }
   ],
   "source": [
    "# TODO: Adapter la liste des colonnes en fonction de vos besoins\n",
    "colonnes_pertinentes = ['price', 'room_type', 'neighbourhood', 'minimum_nights', 'number_of_reviews']\n",
    "df = df[colonnes_pertinentes]\n",
    "# Vérification de la sélection\n",
    "print(df.head())"
   ]
  },
  {
   "cell_type": "markdown",
   "id": "7d04733de2f3c245",
   "metadata": {},
   "source": [
    "## 3.2 Suppression des Doublons\n",
    "### Identifier et supprimer les doublons dans le dataset."
   ]
  },
  {
   "cell_type": "code",
   "execution_count": null,
   "id": "c1d8babf5c0681a0",
   "metadata": {},
   "outputs": [
    {
     "name": "stdout",
     "output_type": "stream",
     "text": [
      "         price        room_type            neighbourhood  minimum_nights  \\\n",
      "0      $100.00  Entire home/apt  Neighborhood highlights               2   \n",
      "1       $88.00  Entire home/apt  Neighborhood highlights               3   \n",
      "2      $136.00  Entire home/apt                      NaN              10   \n",
      "3          NaN  Entire home/apt                      NaN               7   \n",
      "4       $75.00  Entire home/apt                      NaN             180   \n",
      "...        ...              ...                      ...             ...   \n",
      "91004   $76.00  Entire home/apt                      NaN               7   \n",
      "91007   $64.00  Entire home/apt  Neighborhood highlights               1   \n",
      "91017   $56.00  Entire home/apt  Neighborhood highlights               1   \n",
      "91028  $818.00  Entire home/apt  Neighborhood highlights               1   \n",
      "91029  $840.00  Entire home/apt  Neighborhood highlights               1   \n",
      "\n",
      "       number_of_reviews  \n",
      "0                      4  \n",
      "1                    425  \n",
      "2                    367  \n",
      "3                      5  \n",
      "4                      0  \n",
      "...                  ...  \n",
      "91004                  0  \n",
      "91007                  0  \n",
      "91017                  0  \n",
      "91028                  0  \n",
      "91029                  0  \n",
      "\n",
      "[42916 rows x 5 columns]\n",
      "Doublons avant suppression : 48115\n",
      "Doublons après suppression : 0\n"
     ]
    }
   ],
   "source": [
    "\n",
    "df_cleaned = df.drop_duplicates(subset=['price', 'room_type', 'neighbourhood', 'minimum_nights', 'number_of_reviews'], keep='first')\n",
    "\n",
    "print(df_cleaned)\n",
    "\n",
    "print(\"Doublons avant suppression :\", df.duplicated().sum())\n",
    "print(\"Doublons après suppression :\", df_cleaned.duplicated().sum())\n",
    "\n"
   ]
  },
  {
   "cell_type": "markdown",
   "id": "17d21a5c7fe9f99e",
   "metadata": {},
   "source": [
    "## 3.3 Gestion des Valeurs Manquantes\n",
    "### Identifier et traiter les valeurs manquantes.\n"
   ]
  },
  {
   "cell_type": "code",
   "execution_count": null,
   "id": "b7afecf0fe675943",
   "metadata": {},
   "outputs": [
    {
     "name": "stdout",
     "output_type": "stream",
     "text": [
      "price                0\n",
      "room_type            0\n",
      "neighbourhood        0\n",
      "minimum_nights       0\n",
      "number_of_reviews    0\n",
      "dtype: int64\n"
     ]
    },
    {
     "name": "stderr",
     "output_type": "stream",
     "text": [
      "C:\\Users\\FranckPERSONNE\\AppData\\Local\\Temp\\ipykernel_1524\\3897750278.py:11: FutureWarning: A value is trying to be set on a copy of a DataFrame or Series through chained assignment using an inplace method.\n",
      "The behavior will change in pandas 3.0. This inplace method will never work because the intermediate object on which we are setting values always behaves as a copy.\n",
      "\n",
      "For example, when doing 'df[col].method(value, inplace=True)', try using 'df.method({col: value}, inplace=True)' or df[col] = df[col].method(value) instead, to perform the operation inplace on the original object.\n",
      "\n",
      "\n",
      "  df_cleaned['neighbourhood'].fillna('Pas de neighbourhood', inplace=True)\n"
     ]
    }
   ],
   "source": [
    "\n",
    "df_cleaned = df_cleaned.copy()\n",
    "\n",
    "df_cleaned['price'] = df_cleaned['price'].replace({r'\\$': '', r',': ''}, regex=True).astype(float)\n",
    "\n",
    "df_cleaned['price'] = df_cleaned['price'].fillna(df_cleaned['price'].mean())\n",
    "\n",
    "df_cleaned['neighbourhood'].fillna('Pas de neighbourhood', inplace=True)\n",
    "\n",
    "print(df_cleaned.isnull().sum())\n"
   ]
  },
  {
   "cell_type": "markdown",
   "id": "35716a7450dd3fd",
   "metadata": {},
   "source": [
    " # 3.4 Conversion des Types de Données\n",
    "### Convertir les colonnes en types appropriés, par exemple convertir 'price' en numérique."
   ]
  },
  {
   "cell_type": "code",
   "execution_count": null,
   "id": "2c1e347f2df6703f",
   "metadata": {},
   "outputs": [],
   "source": []
  },
  {
   "cell_type": "markdown",
   "id": "246ac3ab496f761",
   "metadata": {},
   "source": [
    "# 3.5 Gestion des Valeurs Aberrantes\n",
    "### Détecter et gérer les valeurs aberrantes à l'aide de visualisations."
   ]
  },
  {
   "cell_type": "code",
   "execution_count": null,
   "id": "274e769c7de46d40",
   "metadata": {},
   "outputs": [],
   "source": []
  },
  {
   "cell_type": "markdown",
   "id": "18fcaf999efb3958",
   "metadata": {},
   "source": [
    " # 4. Séparation des Données (Train/Test Split)\n",
    "### Préparer le dataset pour la modélisation en séparant les données en ensemble d'entraînement et de test.\n"
   ]
  },
  {
   "cell_type": "code",
   "execution_count": null,
   "id": "2d92ccfbf3323499",
   "metadata": {},
   "outputs": [],
   "source": []
  },
  {
   "cell_type": "markdown",
   "id": "f4108f0adc60b656",
   "metadata": {},
   "source": [
    "# 5. Bonus: Préparation pour la Régression Linéaire\n",
    "### Placeholder pour la future implémentation d'une régression linéaire.\n",
    "### Cette section pourra être complétée ultérieurement avec la modélisation et l'évaluation."
   ]
  },
  {
   "cell_type": "code",
   "execution_count": null,
   "id": "c29c93407bfa7356",
   "metadata": {},
   "outputs": [],
   "source": []
  },
  {
   "cell_type": "markdown",
   "id": "d0f2355a8143b6d1",
   "metadata": {},
   "source": [
    "# 6. Conclusion et Perspectives"
   ]
  },
  {
   "cell_type": "markdown",
   "id": "fb7d7937ae120c51",
   "metadata": {},
   "source": []
  },
  {
   "cell_type": "markdown",
   "id": "b0aed11060d69827",
   "metadata": {},
   "source": [
    "### Ce notebook constitue la base du prétraitement des données pour le projet AirBnB.\n",
    "### Chaque membre pourra ajuster ou compléter les sections selon l'évolution du projet.\n",
    "### Pensez à ajouter des commentaires et des visualisations pertinentes pour documenter vos choix."
   ]
  }
 ],
 "metadata": {
  "kernelspec": {
   "display_name": "base",
   "language": "python",
   "name": "python3"
  },
  "language_info": {
   "codemirror_mode": {
    "name": "ipython",
    "version": 3
   },
   "file_extension": ".py",
   "mimetype": "text/x-python",
   "name": "python",
   "nbconvert_exporter": "python",
   "pygments_lexer": "ipython3",
   "version": "3.12.7"
  }
 },
 "nbformat": 5,
 "nbformat_minor": 9
}
