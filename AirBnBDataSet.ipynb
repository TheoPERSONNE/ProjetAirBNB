{
 "cells": [
  {
   "cell_type": "markdown",
   "id": "8a4e00108fb29bba",
   "metadata": {},
   "source": [
    "# Projet AirBnB - Prétraitement des Données (Side Quest)\n",
    "### Ce notebook a pour objectif de préparer le dataset pour la prédiction du prix d'un logement sur Airbnb.\n",
    "### Il est structuré en plusieurs sections : chargement et exploration des données, prétraitement, et séparation des données pour une future modélisation.\n",
    "### Chaque membre pourra compléter sa partie en fonction de son rôle."
   ]
  },
  {
   "cell_type": "markdown",
   "id": "e0bd09ce8dad720b",
   "metadata": {},
   "source": [
    " ## Table des Matières\n",
    "### 1. Introduction\n",
    "### 2. Chargement et Exploration des Données\n",
    "### 3. Prétraitement des Données\n",
    "###    - 3.1 Sélection des Colonnes Pertinentes\n",
    "###    - 3.2 Suppression des Doublons\n",
    "###    - 3.3 Gestion des Valeurs Manquantes\n",
    "###    - 3.4 Conversion des Types de Données\n",
    "###    - 3.5 Gestion des Valeurs Aberrantes\n",
    "### 4. Séparation des Données (Train/Test Split)\n",
    "### 5. Bonus: Préparation pour la Régression Linéaire\n",
    "### 6. Conclusion et Perspectives\n"
   ]
  },
  {
   "cell_type": "markdown",
   "id": "96e3f76675184b31",
   "metadata": {},
   "source": [
    "## 1. Introduction\n",
    "### Dans ce projet, nous préparons le dataset AirBnB afin de prédire le prix des logements.\n",
    "### Ce notebook se concentre sur la partie prétraitement des données avant l'application des algorithmes de prédiction.\n",
    "### Chaque membre de l'équipe pourra ajouter des analyses ou des ajustements au fur et à mesure.\n"
   ]
  },
  {
   "cell_type": "code",
   "execution_count": 172,
   "id": "c259afc0300bf919",
   "metadata": {
    "ExecuteTime": {
     "end_time": "2025-03-25T15:03:16.123034Z",
     "start_time": "2025-03-25T15:03:16.106953Z"
    }
   },
   "outputs": [],
   "source": [
    "# Importation des bibliothèques nécessaires\n",
    "import pandas as pd\n",
    "import numpy as np\n",
    "import matplotlib.pyplot as plt\n",
    "import seaborn as sns\n",
    "from sklearn.preprocessing import StandardScaler, LabelEncoder\n",
    "\n",
    "%matplotlib inline"
   ]
  },
  {
   "cell_type": "code",
   "execution_count": 173,
   "id": "fdb72d4107c8e0b3",
   "metadata": {
    "ExecuteTime": {
     "end_time": "2025-03-25T14:47:38.688991Z",
     "start_time": "2025-03-25T14:47:38.684475Z"
    }
   },
   "outputs": [
    {
     "name": "stdout",
     "output_type": "stream",
     "text": [
      "c:\\Users\\Kraich\\anaconda3\\python.exe\n"
     ]
    }
   ],
   "source": [
    "import sys\n",
    "print(sys.executable)"
   ]
  },
  {
   "cell_type": "markdown",
   "id": "522c7520765a7511",
   "metadata": {},
   "source": [
    " ## 2. Chargement et Exploration des Données\n",
    "### Charger le fichier CSV et effectuer une première exploration du dataset."
   ]
  },
  {
   "cell_type": "code",
   "execution_count": 174,
   "id": "b41171fc7a2cb0c1",
   "metadata": {
    "ExecuteTime": {
     "end_time": "2025-03-25T15:03:27.547875Z",
     "start_time": "2025-03-25T15:03:24.996498Z"
    }
   },
   "outputs": [
    {
     "name": "stdout",
     "output_type": "stream",
     "text": [
      "                 id     scrape_id       host_id  host_listings_count  \\\n",
      "count  9.103100e+04  9.103100e+04  9.103100e+04         91022.000000   \n",
      "mean   6.081553e+17  2.024121e+13  1.818846e+08            30.396596   \n",
      "std    5.127971e+17  3.728536e+01  2.006094e+08           127.009105   \n",
      "min    3.109000e+03  2.024121e+13  2.626000e+03             0.000000   \n",
      "25%    3.233102e+07  2.024121e+13  1.956359e+07             1.000000   \n",
      "50%    8.113895e+17  2.024121e+13  7.262684e+07             1.000000   \n",
      "75%    1.092549e+18  2.024121e+13  3.394154e+08             3.000000   \n",
      "max    1.305100e+18  2.024121e+13  6.654112e+08          7663.000000   \n",
      "\n",
      "       host_total_listings_count  neighbourhood_group_cleansed      latitude  \\\n",
      "count               91022.000000                           0.0  91031.000000   \n",
      "mean                   38.665465                           NaN     48.864181   \n",
      "std                   159.747472                           NaN      0.018198   \n",
      "min                     0.000000                           NaN     48.816090   \n",
      "25%                     1.000000                           NaN     48.850740   \n",
      "50%                     2.000000                           NaN     48.865470   \n",
      "75%                     5.000000                           NaN     48.879055   \n",
      "max                  8018.000000                           NaN     48.901510   \n",
      "\n",
      "          longitude  accommodates     bathrooms  ...  \\\n",
      "count  91031.000000  91031.000000  60114.000000  ...   \n",
      "mean       2.343099      3.229274      1.199737  ...   \n",
      "std        0.034228      1.667150      0.541934  ...   \n",
      "min        2.227420      1.000000      0.000000  ...   \n",
      "25%        2.321011      2.000000      1.000000  ...   \n",
      "50%        2.346829      3.000000      1.000000  ...   \n",
      "75%        2.368320      4.000000      1.000000  ...   \n",
      "max        2.467120     16.000000     42.000000  ...   \n",
      "\n",
      "       review_scores_cleanliness  review_scores_checkin  \\\n",
      "count               67167.000000           67157.000000   \n",
      "mean                    4.656672               4.805165   \n",
      "std                     0.455675               0.372354   \n",
      "min                     0.000000               0.000000   \n",
      "25%                     4.500000               4.770000   \n",
      "50%                     4.790000               4.920000   \n",
      "75%                     5.000000               5.000000   \n",
      "max                     5.000000               5.000000   \n",
      "\n",
      "       review_scores_communication  review_scores_location  \\\n",
      "count                 67166.000000            67158.000000   \n",
      "mean                      4.827823                4.818905   \n",
      "std                       0.361166                0.311784   \n",
      "min                       0.000000                0.000000   \n",
      "25%                       4.800000                4.760000   \n",
      "50%                       4.950000                4.920000   \n",
      "75%                       5.000000                5.000000   \n",
      "max                       5.000000                5.000000   \n",
      "\n",
      "       review_scores_value  calculated_host_listings_count  \\\n",
      "count         67156.000000                    91031.000000   \n",
      "mean              4.624605                       23.583010   \n",
      "std               0.441887                       94.650167   \n",
      "min               0.000000                        1.000000   \n",
      "25%               4.500000                        1.000000   \n",
      "50%               4.720000                        1.000000   \n",
      "75%               4.900000                        2.000000   \n",
      "max               5.000000                      826.000000   \n",
      "\n",
      "       calculated_host_listings_count_entire_homes  \\\n",
      "count                                 91031.000000   \n",
      "mean                                     22.522558   \n",
      "std                                      93.227797   \n",
      "min                                       0.000000   \n",
      "25%                                       1.000000   \n",
      "50%                                       1.000000   \n",
      "75%                                       2.000000   \n",
      "max                                     826.000000   \n",
      "\n",
      "       calculated_host_listings_count_private_rooms  \\\n",
      "count                                  91031.000000   \n",
      "mean                                       0.981808   \n",
      "std                                       10.927202   \n",
      "min                                        0.000000   \n",
      "25%                                        0.000000   \n",
      "50%                                        0.000000   \n",
      "75%                                        0.000000   \n",
      "max                                      181.000000   \n",
      "\n",
      "       calculated_host_listings_count_shared_rooms  reviews_per_month  \n",
      "count                                 91031.000000       67176.000000  \n",
      "mean                                      0.019235           1.065495  \n",
      "std                                       0.335941           1.353293  \n",
      "min                                       0.000000           0.010000  \n",
      "25%                                       0.000000           0.210000  \n",
      "50%                                       0.000000           0.590000  \n",
      "75%                                       0.000000           1.420000  \n",
      "max                                      11.000000          49.380000  \n",
      "\n",
      "[8 rows x 40 columns]\n"
     ]
    }
   ],
   "source": [
    "# TODO: Remplacer le chemin par le chemin de votre fichier CSV si nécessaire\n",
    "file_path = 'listings.csv.gz'\n",
    "df = pd.read_csv(file_path)\n",
    "\n",
    "# Affichage des premières lignes du dataset\n",
    "#print(df.head())\n",
    "\n",
    "# Informations générales sur le dataset\n",
    "#print(df.info())\n",
    "\n",
    "# Statistiques descriptives\n",
    "print(df.describe())\n"
   ]
  },
  {
   "cell_type": "markdown",
   "id": "24fbad65acddcec2",
   "metadata": {},
   "source": [
    " ## 3. Prétraitement des Données\n",
    "### Dans cette section, nous allons préparer le dataset pour l'analyse.\n",
    "### Cette partie est à compléter par les membres de l'équipe selon les besoins.\n",
    "\n",
    "## 3.1 Sélection des Colonnes Pertinentes\n",
    "### Sélectionner les colonnes jugées importantes pour la prédiction du prix."
   ]
  },
  {
   "cell_type": "code",
   "execution_count": 175,
   "id": "3ca67321e8913eab",
   "metadata": {
    "ExecuteTime": {
     "end_time": "2025-03-25T15:03:32.670399Z",
     "start_time": "2025-03-25T15:03:32.608726Z"
    }
   },
   "outputs": [
    {
     "name": "stdout",
     "output_type": "stream",
     "text": [
      "     price        room_type            neighbourhood  minimum_nights  \\\n",
      "0  $100.00  Entire home/apt  Neighborhood highlights               2   \n",
      "1   $88.00  Entire home/apt  Neighborhood highlights               3   \n",
      "2  $136.00  Entire home/apt                      NaN              10   \n",
      "3      NaN  Entire home/apt                      NaN               7   \n",
      "4   $75.00  Entire home/apt                      NaN             180   \n",
      "\n",
      "   number_of_reviews  \n",
      "0                  4  \n",
      "1                425  \n",
      "2                367  \n",
      "3                  5  \n",
      "4                  0  \n"
     ]
    }
   ],
   "source": [
    "# TODO: Adapter la liste des colonnes en fonction de vos besoins\n",
    "colonnes_pertinentes = ['price', 'room_type', 'neighbourhood', 'minimum_nights', 'number_of_reviews']\n",
    "df = df[colonnes_pertinentes]\n",
    "# Vérification de la sélection\n",
    "print(df.head())"
   ]
  },
  {
   "cell_type": "markdown",
   "id": "7d04733de2f3c245",
   "metadata": {},
   "source": [
    "## 3.2 Suppression des Doublons\n",
    "### Identifier et supprimer les doublons dans le dataset."
   ]
  },
  {
   "cell_type": "code",
   "execution_count": 176,
   "id": "c1d8babf5c0681a0",
   "metadata": {},
   "outputs": [
    {
     "name": "stdout",
     "output_type": "stream",
     "text": [
      "         price        room_type            neighbourhood  minimum_nights  \\\n",
      "0      $100.00  Entire home/apt  Neighborhood highlights               2   \n",
      "1       $88.00  Entire home/apt  Neighborhood highlights               3   \n",
      "2      $136.00  Entire home/apt                      NaN              10   \n",
      "3          NaN  Entire home/apt                      NaN               7   \n",
      "4       $75.00  Entire home/apt                      NaN             180   \n",
      "...        ...              ...                      ...             ...   \n",
      "91004   $76.00  Entire home/apt                      NaN               7   \n",
      "91007   $64.00  Entire home/apt  Neighborhood highlights               1   \n",
      "91017   $56.00  Entire home/apt  Neighborhood highlights               1   \n",
      "91028  $818.00  Entire home/apt  Neighborhood highlights               1   \n",
      "91029  $840.00  Entire home/apt  Neighborhood highlights               1   \n",
      "\n",
      "       number_of_reviews  \n",
      "0                      4  \n",
      "1                    425  \n",
      "2                    367  \n",
      "3                      5  \n",
      "4                      0  \n",
      "...                  ...  \n",
      "91004                  0  \n",
      "91007                  0  \n",
      "91017                  0  \n",
      "91028                  0  \n",
      "91029                  0  \n",
      "\n",
      "[42916 rows x 5 columns]\n",
      "Doublons avant suppression : 48115\n",
      "Doublons après suppression : 0\n"
     ]
    }
   ],
   "source": [
    "\n",
    "df_cleaned = df.drop_duplicates(subset=['price', 'room_type', 'neighbourhood', 'minimum_nights', 'number_of_reviews'], keep='first')\n",
    "\n",
    "print(df_cleaned)\n",
    "\n",
    "print(\"Doublons avant suppression :\", df.duplicated().sum())\n",
    "print(\"Doublons après suppression :\", df_cleaned.duplicated().sum())\n",
    "\n"
   ]
  },
  {
   "cell_type": "markdown",
   "id": "17d21a5c7fe9f99e",
   "metadata": {},
   "source": [
    "## 3.3 Gestion des Valeurs Manquantes\n",
    "### Identifier et traiter les valeurs manquantes.\n"
   ]
  },
  {
   "cell_type": "code",
   "execution_count": 177,
   "id": "b7afecf0fe675943",
   "metadata": {},
   "outputs": [
    {
     "name": "stdout",
     "output_type": "stream",
     "text": [
      "price                0\n",
      "room_type            0\n",
      "neighbourhood        0\n",
      "minimum_nights       0\n",
      "number_of_reviews    0\n",
      "dtype: int64\n"
     ]
    }
   ],
   "source": [
    "df_cleaned = df_cleaned.copy()\n",
    "\n",
    "df_cleaned['price'] = df_cleaned['price'].replace({r'\\$': '', r',': ''}, regex=True).astype(float)\n",
    "\n",
    "df_cleaned['price'] = df_cleaned['price'].fillna(df_cleaned['price'].mean())\n",
    "\n",
    "# Replace NaN values in 'neighbourhood' column without using inplace=True\n",
    "df_cleaned['neighbourhood'] = df_cleaned['neighbourhood'].fillna('Pas de neighbourhood')\n",
    "\n",
    "print(df_cleaned.isnull().sum())"
   ]
  },
  {
   "cell_type": "markdown",
   "id": "35716a7450dd3fd",
   "metadata": {},
   "source": [
    " # 3.4 Conversion des Types de Données\n",
    "### Convertir les colonnes en types appropriés, par exemple convertir 'price' en numérique."
   ]
  },
  {
   "cell_type": "code",
   "execution_count": 178,
   "id": "2c1e347f2df6703f",
   "metadata": {},
   "outputs": [
    {
     "data": {
      "text/html": [
       "<div>\n",
       "<style scoped>\n",
       "    .dataframe tbody tr th:only-of-type {\n",
       "        vertical-align: middle;\n",
       "    }\n",
       "\n",
       "    .dataframe tbody tr th {\n",
       "        vertical-align: top;\n",
       "    }\n",
       "\n",
       "    .dataframe thead th {\n",
       "        text-align: right;\n",
       "    }\n",
       "</style>\n",
       "<table border=\"1\" class=\"dataframe\">\n",
       "  <thead>\n",
       "    <tr style=\"text-align: right;\">\n",
       "      <th></th>\n",
       "      <th>room_type</th>\n",
       "      <th>room_type_encoded</th>\n",
       "      <th>neighbourhood</th>\n",
       "      <th>neighbourhood_encoded</th>\n",
       "    </tr>\n",
       "  </thead>\n",
       "  <tbody>\n",
       "    <tr>\n",
       "      <th>0</th>\n",
       "      <td>Entire home/apt</td>\n",
       "      <td>0</td>\n",
       "      <td>Neighborhood highlights</td>\n",
       "      <td>0</td>\n",
       "    </tr>\n",
       "    <tr>\n",
       "      <th>1</th>\n",
       "      <td>Entire home/apt</td>\n",
       "      <td>0</td>\n",
       "      <td>Neighborhood highlights</td>\n",
       "      <td>0</td>\n",
       "    </tr>\n",
       "    <tr>\n",
       "      <th>2</th>\n",
       "      <td>Entire home/apt</td>\n",
       "      <td>0</td>\n",
       "      <td>Pas de neighbourhood</td>\n",
       "      <td>1</td>\n",
       "    </tr>\n",
       "    <tr>\n",
       "      <th>3</th>\n",
       "      <td>Entire home/apt</td>\n",
       "      <td>0</td>\n",
       "      <td>Pas de neighbourhood</td>\n",
       "      <td>1</td>\n",
       "    </tr>\n",
       "    <tr>\n",
       "      <th>4</th>\n",
       "      <td>Entire home/apt</td>\n",
       "      <td>0</td>\n",
       "      <td>Pas de neighbourhood</td>\n",
       "      <td>1</td>\n",
       "    </tr>\n",
       "  </tbody>\n",
       "</table>\n",
       "</div>"
      ],
      "text/plain": [
       "         room_type  room_type_encoded            neighbourhood  \\\n",
       "0  Entire home/apt                  0  Neighborhood highlights   \n",
       "1  Entire home/apt                  0  Neighborhood highlights   \n",
       "2  Entire home/apt                  0     Pas de neighbourhood   \n",
       "3  Entire home/apt                  0     Pas de neighbourhood   \n",
       "4  Entire home/apt                  0     Pas de neighbourhood   \n",
       "\n",
       "   neighbourhood_encoded  \n",
       "0                      0  \n",
       "1                      0  \n",
       "2                      1  \n",
       "3                      1  \n",
       "4                      1  "
      ]
     },
     "execution_count": 178,
     "metadata": {},
     "output_type": "execute_result"
    }
   ],
   "source": [
    "# 1. Encodage des variables catégorielles\n",
    "label_encoder = LabelEncoder()\n",
    "\n",
    "df_cleaned['room_type_encoded'] = label_encoder.fit_transform(df_cleaned['room_type'])\n",
    "df_cleaned['neighbourhood_encoded'] = label_encoder.fit_transform(df_cleaned['neighbourhood'])\n",
    "\n",
    "# Vérification de l'encodage\n",
    "df_cleaned[['room_type', 'room_type_encoded', 'neighbourhood', 'neighbourhood_encoded']].head()\n"
   ]
  },
  {
   "cell_type": "code",
   "execution_count": 179,
   "id": "cfdd5480",
   "metadata": {},
   "outputs": [
    {
     "name": "stdout",
     "output_type": "stream",
     "text": [
      "<class 'pandas.core.frame.DataFrame'>\n",
      "Index: 42916 entries, 0 to 91029\n",
      "Data columns (total 5 columns):\n",
      " #   Column                 Non-Null Count  Dtype  \n",
      "---  ------                 --------------  -----  \n",
      " 0   price                  42916 non-null  float64\n",
      " 1   minimum_nights         42916 non-null  int64  \n",
      " 2   number_of_reviews      42916 non-null  int64  \n",
      " 3   room_type_encoded      42916 non-null  int32  \n",
      " 4   neighbourhood_encoded  42916 non-null  int32  \n",
      "dtypes: float64(1), int32(2), int64(2)\n",
      "memory usage: 1.6 MB\n"
     ]
    }
   ],
   "source": [
    "# SUPPRESSION DES COLONNES INUTILES\n",
    "df_cleaned = df_cleaned.drop(columns=['room_type', 'neighbourhood'])\n",
    "df_cleaned.info()"
   ]
  },
  {
   "cell_type": "markdown",
   "id": "485c13ec",
   "metadata": {},
   "source": [
    "### Normalisation des données.  transformation des données pour qu'elles aient une moyenne de 0 et un écart-type de 1"
   ]
  },
  {
   "cell_type": "code",
   "execution_count": 180,
   "id": "63c21580",
   "metadata": {},
   "outputs": [
    {
     "data": {
      "text/html": [
       "<div>\n",
       "<style scoped>\n",
       "    .dataframe tbody tr th:only-of-type {\n",
       "        vertical-align: middle;\n",
       "    }\n",
       "\n",
       "    .dataframe tbody tr th {\n",
       "        vertical-align: top;\n",
       "    }\n",
       "\n",
       "    .dataframe thead th {\n",
       "        text-align: right;\n",
       "    }\n",
       "</style>\n",
       "<table border=\"1\" class=\"dataframe\">\n",
       "  <thead>\n",
       "    <tr style=\"text-align: right;\">\n",
       "      <th></th>\n",
       "      <th>price</th>\n",
       "      <th>minimum_nights</th>\n",
       "      <th>number_of_reviews</th>\n",
       "      <th>room_type_encoded</th>\n",
       "      <th>neighbourhood_encoded</th>\n",
       "    </tr>\n",
       "  </thead>\n",
       "  <tbody>\n",
       "    <tr>\n",
       "      <th>count</th>\n",
       "      <td>4.291600e+04</td>\n",
       "      <td>4.291600e+04</td>\n",
       "      <td>4.291600e+04</td>\n",
       "      <td>42916.000000</td>\n",
       "      <td>42916.000000</td>\n",
       "    </tr>\n",
       "    <tr>\n",
       "      <th>mean</th>\n",
       "      <td>2.649055e-18</td>\n",
       "      <td>7.947165e-18</td>\n",
       "      <td>2.649055e-17</td>\n",
       "      <td>0.276028</td>\n",
       "      <td>0.420659</td>\n",
       "    </tr>\n",
       "    <tr>\n",
       "      <th>std</th>\n",
       "      <td>1.000012e+00</td>\n",
       "      <td>1.000012e+00</td>\n",
       "      <td>1.000012e+00</td>\n",
       "      <td>0.694885</td>\n",
       "      <td>0.493671</td>\n",
       "    </tr>\n",
       "    <tr>\n",
       "      <th>min</th>\n",
       "      <td>-4.757841e-01</td>\n",
       "      <td>-2.405323e-01</td>\n",
       "      <td>-5.282480e-01</td>\n",
       "      <td>0.000000</td>\n",
       "      <td>0.000000</td>\n",
       "    </tr>\n",
       "    <tr>\n",
       "      <th>25%</th>\n",
       "      <td>-2.898221e-01</td>\n",
       "      <td>-2.210107e-01</td>\n",
       "      <td>-4.887713e-01</td>\n",
       "      <td>0.000000</td>\n",
       "      <td>0.000000</td>\n",
       "    </tr>\n",
       "    <tr>\n",
       "      <th>50%</th>\n",
       "      <td>-1.731012e-01</td>\n",
       "      <td>-2.014890e-01</td>\n",
       "      <td>-3.177053e-01</td>\n",
       "      <td>0.000000</td>\n",
       "      <td>0.000000</td>\n",
       "    </tr>\n",
       "    <tr>\n",
       "      <th>75%</th>\n",
       "      <td>0.000000e+00</td>\n",
       "      <td>-1.819673e-01</td>\n",
       "      <td>6.390336e-02</td>\n",
       "      <td>0.000000</td>\n",
       "      <td>1.000000</td>\n",
       "    </tr>\n",
       "    <tr>\n",
       "      <th>max</th>\n",
       "      <td>5.965127e+01</td>\n",
       "      <td>1.926161e+01</td>\n",
       "      <td>4.468580e+01</td>\n",
       "      <td>3.000000</td>\n",
       "      <td>1.000000</td>\n",
       "    </tr>\n",
       "  </tbody>\n",
       "</table>\n",
       "</div>"
      ],
      "text/plain": [
       "              price  minimum_nights  number_of_reviews  room_type_encoded  \\\n",
       "count  4.291600e+04    4.291600e+04       4.291600e+04       42916.000000   \n",
       "mean   2.649055e-18    7.947165e-18       2.649055e-17           0.276028   \n",
       "std    1.000012e+00    1.000012e+00       1.000012e+00           0.694885   \n",
       "min   -4.757841e-01   -2.405323e-01      -5.282480e-01           0.000000   \n",
       "25%   -2.898221e-01   -2.210107e-01      -4.887713e-01           0.000000   \n",
       "50%   -1.731012e-01   -2.014890e-01      -3.177053e-01           0.000000   \n",
       "75%    0.000000e+00   -1.819673e-01       6.390336e-02           0.000000   \n",
       "max    5.965127e+01    1.926161e+01       4.468580e+01           3.000000   \n",
       "\n",
       "       neighbourhood_encoded  \n",
       "count           42916.000000  \n",
       "mean                0.420659  \n",
       "std                 0.493671  \n",
       "min                 0.000000  \n",
       "25%                 0.000000  \n",
       "50%                 0.000000  \n",
       "75%                 1.000000  \n",
       "max                 1.000000  "
      ]
     },
     "execution_count": 180,
     "metadata": {},
     "output_type": "execute_result"
    }
   ],
   "source": [
    "scaler = StandardScaler()\n",
    "df_cleaned[['price','minimum_nights', 'number_of_reviews']] = scaler.fit_transform(df_cleaned[['price','minimum_nights', 'number_of_reviews']])\n",
    "\n",
    "# Vérification après normalisation\n",
    "df_cleaned.describe()"
   ]
  },
  {
   "cell_type": "markdown",
   "id": "246ac3ab496f761",
   "metadata": {},
   "source": [
    "# 3.5 Gestion des Valeurs Aberrantes\n",
    "### Détecter et gérer les valeurs aberrantes à l'aide de visualisations. \n",
    "##### j'ai utiliser z-score a voir si on switch vers IQR pour les boxplots // PAS LE MEME NOMBRE DE VALEURS ABERRANTES "
   ]
  },
  {
   "cell_type": "code",
   "execution_count": null,
   "id": "274e769c7de46d40",
   "metadata": {},
   "outputs": [
    {
     "name": "stdout",
     "output_type": "stream",
     "text": [
      "Nombre de valeurs aberrantes détectées : 15890\n"
     ]
    },
    {
     "data": {
      "image/png": "[encoded data removed]",
      "text/plain": [
       "<Figure size 1000x600 with 1 Axes>"
      ]
     },
     "metadata": {},
     "output_type": "display_data"
    }
   ],
   "source": [
    "# Détection des valeurs aberrantes avec IQR\n",
    "columns_to_check = ['price', 'minimum_nights', 'number_of_reviews']\n",
    "outliers = pd.DataFrame()\n",
    "\n",
    "for col in columns_to_check:\n",
    "    Q1 = df_cleaned[col].quantile(0.25)\n",
    "    Q3 = df_cleaned[col].quantile(0.75)\n",
    "    IQR = Q3 - Q1\n",
    "    # Calcul des bornes inférieure et supérieure à adapté\n",
    "    lower_bound = Q1 - 1 * IQR\n",
    "    upper_bound = Q3 + 1 * IQR\n",
    "    \n",
    "    outliers[col] = (df_cleaned[col] < lower_bound) | (df_cleaned[col] > upper_bound)\n",
    "\n",
    "outliers_combined = outliers.any(axis=1)\n",
    "print(f\"Nombre de valeurs aberrantes détectées : {outliers_combined.sum()}\")\n",
    "plt.figure(figsize=(10, 6))\n",
    "sns.boxplot(data=df_cleaned[['minimum_nights', 'number_of_reviews']])\n",
    "plt.title('Valeur aberrantes dans minimum_nights et number_of_reviews')\n",
    "plt.show()\n",
    "\n",
    "# Scatter plot pour visualiser les données\n",
    "#plt.figure(figsize=(10, 6))\n",
    "#plt.scatter( df_cleaned['minimum_nights'], df_cleaned['number_of_reviews'], alpha=0.5)\n",
    "#plt.title('Scatter plot avant suppression des valeurs aberrantes')\n",
    "#plt.xlabel('minimum_nights')\n",
    "#plt.ylabel('number_of_reviews')\n",
    "#plt.show()"
   ]
  },
  {
   "cell_type": "code",
   "execution_count": 182,
   "id": "798ff73c",
   "metadata": {},
   "outputs": [
    {
     "data": {
      "image/png": "[encoded data removed]",
      "text/plain": [
       "<Figure size 1000x600 with 1 Axes>"
      ]
     },
     "metadata": {},
     "output_type": "display_data"
    }
   ],
   "source": [
    "plt.figure(figsize=(10, 6))\n",
    "sns.boxplot(data=df_cleaned[['price']])\n",
    "plt.title('Valeur aberrantes dans price')\n",
    "plt.show()"
   ]
  },
  {
   "cell_type": "code",
   "execution_count": 183,
   "id": "6c03cbe3",
   "metadata": {},
   "outputs": [
    {
     "name": "stdout",
     "output_type": "stream",
     "text": [
      "Dimensions avant suppression : (42916, 5)\n",
      "Dimensions après suppression des valeurs aberrantes : (27026, 5)\n",
      "Nombre de valeurs aberrantes restantes : 0\n"
     ]
    },
    {
     "data": {
      "image/png": "[encoded data removed]",
      "text/plain": [
       "<Figure size 1000x600 with 1 Axes>"
      ]
     },
     "metadata": {},
     "output_type": "display_data"
    }
   ],
   "source": [
    "# Suppression des valeurs aberrantes\n",
    "df_cleaned_no_outliers = df_cleaned[~outliers_combined]\n",
    "print(f\"Dimensions avant suppression : {df_cleaned.shape}\")\n",
    "print(f\"Dimensions après suppression des valeurs aberrantes : {df_cleaned_no_outliers.shape}\")\n",
    "\n",
    "\n",
    "outliers_remaining = (df_cleaned_no_outliers> 3).any(axis=1)\n",
    "print(f\"Nombre de valeurs aberrantes restantes : {outliers_remaining.sum()}\")\n",
    "plt.figure(figsize=(10, 6))\n",
    "sns.boxplot(data=df_cleaned_no_outliers[['minimum_nights', 'number_of_reviews']])\n",
    "plt.title('Valeur aberrantes après suppression dans minimum_nights et number_of_reviews')\n",
    "plt.show()\n",
    "\n",
    "# Scatter plot pour visualiser les données\n",
    "#plt.show()\n",
    "#plt.figure(figsize=(10, 6))\n",
    "#plt.scatter(df_cleaned_no_outliers['minimum_nights'], df_cleaned_no_outliers['number_of_reviews'], alpha=0.5)\n",
    "#plt.title('Scatter plot après suppression des valeurs aberrantes')\n",
    "#plt.xlabel('minimum_nights')\n",
    "#plt.ylabel('number_of_reviews')"
   ]
  },
  {
   "cell_type": "code",
   "execution_count": 184,
   "id": "5e76c193",
   "metadata": {},
   "outputs": [
    {
     "data": {
      "image/png": "[encoded data removed]",
      "text/plain": [
       "<Figure size 1000x600 with 1 Axes>"
      ]
     },
     "metadata": {},
     "output_type": "display_data"
    }
   ],
   "source": [
    "plt.figure(figsize=(10, 6))\n",
    "sns.boxplot(data=df_cleaned_no_outliers[['price']])\n",
    "plt.title('Valeur aberrantes dans price après supression')\n",
    "plt.show()"
   ]
  },
  {
   "cell_type": "markdown",
   "id": "18fcaf999efb3958",
   "metadata": {},
   "source": [
    " # 4. Séparation des Données (Train/Test Split)\n",
    "### Préparer le dataset pour la modélisation en séparant les données en ensemble d'entraînement et de test.\n"
   ]
  },
  {
   "cell_type": "code",
   "execution_count": null,
   "id": "2d92ccfbf3323499",
   "metadata": {},
   "outputs": [],
   "source": []
  },
  {
   "cell_type": "markdown",
   "id": "f4108f0adc60b656",
   "metadata": {},
   "source": [
    "# 5. Bonus: Préparation pour la Régression Linéaire\n",
    "### Placeholder pour la future implémentation d'une régression linéaire.\n",
    "### Cette section pourra être complétée ultérieurement avec la modélisation et l'évaluation."
   ]
  },
  {
   "cell_type": "code",
   "execution_count": null,
   "id": "c29c93407bfa7356",
   "metadata": {},
   "outputs": [],
   "source": []
  },
  {
   "cell_type": "markdown",
   "id": "d0f2355a8143b6d1",
   "metadata": {},
   "source": [
    "# 6. Conclusion et Perspectives"
   ]
  },
  {
   "cell_type": "markdown",
   "id": "fb7d7937ae120c51",
   "metadata": {},
   "source": []
  },
  {
   "cell_type": "markdown",
   "id": "b0aed11060d69827",
   "metadata": {},
   "source": [
    "### Ce notebook constitue la base du prétraitement des données pour le projet AirBnB.\n",
    "### Chaque membre pourra ajuster ou compléter les sections selon l'évolution du projet.\n",
    "### Pensez à ajouter des commentaires et des visualisations pertinentes pour documenter vos choix."
   ]
  }
 ],
 "metadata": {
  "kernelspec": {
   "display_name": "base",
   "language": "python",
   "name": "python3"
  },
  "language_info": {
   "codemirror_mode": {
    "name": "ipython",
    "version": 3
   },
   "file_extension": ".py",
   "mimetype": "text/x-python",
   "name": "python",
   "nbconvert_exporter": "python",
   "pygments_lexer": "ipython3",
   "version": "3.12.7"
  }
 },
 "nbformat": 5,
 "nbformat_minor": 9
}
